{
 "cells": [
  {
   "cell_type": "code",
   "execution_count": 1,
   "id": "42e08c3a-da16-4d09-8f6e-d697c3e2d535",
   "metadata": {},
   "outputs": [],
   "source": [
    "import numpy as np\n",
    "import pandas as pd\n",
    "from sklearn.ensemble import RandomForestClassifier\n",
    "from sklearn.feature_extraction.text import CountVectorizer, TfidfVectorizer\n",
    "from sklearn.model_selection import train_test_split"
   ]
  },
  {
   "cell_type": "code",
   "execution_count": 8,
   "id": "fa4f94af-db64-45e0-acd5-4969ff37ef85",
   "metadata": {},
   "outputs": [],
   "source": [
    "#Access to Data, that I download from Kaggle-Password Strength Classifier Dataset"
   ]
  },
  {
   "cell_type": "code",
   "execution_count": 14,
   "id": "c0fde6da-9928-4157-bb60-086247a2d6af",
   "metadata": {
    "tags": []
   },
   "outputs": [
    {
     "data": {
      "text/html": [
       "<div>\n",
       "<style scoped>\n",
       "    .dataframe tbody tr th:only-of-type {\n",
       "        vertical-align: middle;\n",
       "    }\n",
       "\n",
       "    .dataframe tbody tr th {\n",
       "        vertical-align: top;\n",
       "    }\n",
       "\n",
       "    .dataframe thead th {\n",
       "        text-align: right;\n",
       "    }\n",
       "</style>\n",
       "<table border=\"1\" class=\"dataframe\">\n",
       "  <thead>\n",
       "    <tr style=\"text-align: right;\">\n",
       "      <th></th>\n",
       "      <th>password</th>\n",
       "      <th>strength</th>\n",
       "    </tr>\n",
       "  </thead>\n",
       "  <tbody>\n",
       "    <tr>\n",
       "      <th>0</th>\n",
       "      <td>kzde5577</td>\n",
       "      <td>1</td>\n",
       "    </tr>\n",
       "    <tr>\n",
       "      <th>1</th>\n",
       "      <td>kino3434</td>\n",
       "      <td>1</td>\n",
       "    </tr>\n",
       "    <tr>\n",
       "      <th>2</th>\n",
       "      <td>visi7k1yr</td>\n",
       "      <td>1</td>\n",
       "    </tr>\n",
       "    <tr>\n",
       "      <th>3</th>\n",
       "      <td>megzy123</td>\n",
       "      <td>1</td>\n",
       "    </tr>\n",
       "    <tr>\n",
       "      <th>4</th>\n",
       "      <td>lamborghin1</td>\n",
       "      <td>1</td>\n",
       "    </tr>\n",
       "  </tbody>\n",
       "</table>\n",
       "</div>"
      ],
      "text/plain": [
       "      password  strength\n",
       "0     kzde5577         1\n",
       "1     kino3434         1\n",
       "2    visi7k1yr         1\n",
       "3     megzy123         1\n",
       "4  lamborghin1         1"
      ]
     },
     "execution_count": 14,
     "metadata": {},
     "output_type": "execute_result"
    }
   ],
   "source": [
    "data = pd.read_csv('data.csv', sep=',', on_bad_lines='skip')\n",
    "data.head()"
   ]
  },
  {
   "cell_type": "code",
   "execution_count": 15,
   "id": "9cf56cc2-163a-4e0e-a586-d63246a962e1",
   "metadata": {},
   "outputs": [],
   "source": [
    "#Data Manipulation, Preparing to ML"
   ]
  },
  {
   "cell_type": "code",
   "execution_count": 16,
   "id": "cb2f8f5f-153e-4ad5-bae6-75475685041d",
   "metadata": {},
   "outputs": [
    {
     "data": {
      "text/plain": [
       "<bound method DataFrame.info of             password  strength\n",
       "0           kzde5577         1\n",
       "1           kino3434         1\n",
       "2          visi7k1yr         1\n",
       "3           megzy123         1\n",
       "4        lamborghin1         1\n",
       "...              ...       ...\n",
       "669635    10redtux10         1\n",
       "669636     infrared1         1\n",
       "669637  184520socram         1\n",
       "669638     marken22a         1\n",
       "669639      fxx4pw4g         1\n",
       "\n",
       "[669640 rows x 2 columns]>"
      ]
     },
     "execution_count": 16,
     "metadata": {},
     "output_type": "execute_result"
    }
   ],
   "source": [
    "df = data.copy()\n",
    "df.info"
   ]
  },
  {
   "cell_type": "code",
   "execution_count": 17,
   "id": "71953de6-c899-423e-85df-8e7c0490e418",
   "metadata": {},
   "outputs": [
    {
     "data": {
      "text/plain": [
       "strength\n",
       "1    496801\n",
       "0     89702\n",
       "2     83137\n",
       "Name: count, dtype: int64"
      ]
     },
     "execution_count": 17,
     "metadata": {},
     "output_type": "execute_result"
    }
   ],
   "source": [
    "df[\"strength\"].value_counts()"
   ]
  },
  {
   "cell_type": "code",
   "execution_count": 18,
   "id": "a0737ae2-2f78-447f-9e81-0a7d9be29e59",
   "metadata": {},
   "outputs": [],
   "source": [
    "df.dropna(inplace=True)"
   ]
  },
  {
   "cell_type": "code",
   "execution_count": 19,
   "id": "e45de625-0545-4582-987a-83c49d9f5cb5",
   "metadata": {},
   "outputs": [
    {
     "data": {
      "text/plain": [
       "password    0\n",
       "strength    0\n",
       "dtype: int64"
      ]
     },
     "execution_count": 19,
     "metadata": {},
     "output_type": "execute_result"
    }
   ],
   "source": [
    "df.isnull().sum()"
   ]
  },
  {
   "cell_type": "code",
   "execution_count": 20,
   "id": "dfff829e-1cd3-4eeb-9042-a0b6574ba4e1",
   "metadata": {},
   "outputs": [
    {
     "data": {
      "text/html": [
       "<div>\n",
       "<style scoped>\n",
       "    .dataframe tbody tr th:only-of-type {\n",
       "        vertical-align: middle;\n",
       "    }\n",
       "\n",
       "    .dataframe tbody tr th {\n",
       "        vertical-align: top;\n",
       "    }\n",
       "\n",
       "    .dataframe thead th {\n",
       "        text-align: right;\n",
       "    }\n",
       "</style>\n",
       "<table border=\"1\" class=\"dataframe\">\n",
       "  <thead>\n",
       "    <tr style=\"text-align: right;\">\n",
       "      <th></th>\n",
       "      <th>password</th>\n",
       "      <th>strength</th>\n",
       "    </tr>\n",
       "  </thead>\n",
       "  <tbody>\n",
       "    <tr>\n",
       "      <th>534685</th>\n",
       "      <td>seftya280990</td>\n",
       "      <td>Medium</td>\n",
       "    </tr>\n",
       "    <tr>\n",
       "      <th>328941</th>\n",
       "      <td>nurasad123</td>\n",
       "      <td>Medium</td>\n",
       "    </tr>\n",
       "    <tr>\n",
       "      <th>422007</th>\n",
       "      <td>jakarta95</td>\n",
       "      <td>Medium</td>\n",
       "    </tr>\n",
       "    <tr>\n",
       "      <th>249130</th>\n",
       "      <td>yousef1</td>\n",
       "      <td>Weak</td>\n",
       "    </tr>\n",
       "    <tr>\n",
       "      <th>291355</th>\n",
       "      <td>dxg2bzzt</td>\n",
       "      <td>Medium</td>\n",
       "    </tr>\n",
       "  </tbody>\n",
       "</table>\n",
       "</div>"
      ],
      "text/plain": [
       "            password strength\n",
       "534685  seftya280990   Medium\n",
       "328941    nurasad123   Medium\n",
       "422007     jakarta95   Medium\n",
       "249130       yousef1     Weak\n",
       "291355      dxg2bzzt   Medium"
      ]
     },
     "execution_count": 20,
     "metadata": {},
     "output_type": "execute_result"
    }
   ],
   "source": [
    "df[\"strength\"] = data[\"strength\"].map({0: \"Weak\",\n",
    "                                      1: \"Medium\",\n",
    "                                      2: \"Strong\"})\n",
    "df.sample(5)"
   ]
  },
  {
   "cell_type": "code",
   "execution_count": 21,
   "id": "951de31c-65e4-4233-8135-e207a2408c54",
   "metadata": {},
   "outputs": [],
   "source": [
    "password_ = np.array(df)"
   ]
  },
  {
   "cell_type": "code",
   "execution_count": 22,
   "id": "b1d4d097-3fde-47b2-9a01-7cf0ca38767c",
   "metadata": {},
   "outputs": [
    {
     "data": {
      "text/plain": [
       "array([['kzde5577', 'Medium'],\n",
       "       ['kino3434', 'Medium'],\n",
       "       ['visi7k1yr', 'Medium'],\n",
       "       ...,\n",
       "       ['184520socram', 'Medium'],\n",
       "       ['marken22a', 'Medium'],\n",
       "       ['fxx4pw4g', 'Medium']], dtype=object)"
      ]
     },
     "execution_count": 22,
     "metadata": {},
     "output_type": "execute_result"
    }
   ],
   "source": [
    "password_"
   ]
  },
  {
   "cell_type": "code",
   "execution_count": 23,
   "id": "056fdfca-45e2-4e41-851c-397f1cb613dc",
   "metadata": {},
   "outputs": [],
   "source": [
    "#Shuffle the dataset to help model to understand patterns and relations within the dataset"
   ]
  },
  {
   "cell_type": "code",
   "execution_count": 24,
   "id": "b4b68c31-95c7-4411-9863-1b160ae60b1c",
   "metadata": {},
   "outputs": [],
   "source": [
    "import random"
   ]
  },
  {
   "cell_type": "code",
   "execution_count": 25,
   "id": "e0221aee-7efc-418e-b932-d1e09e1bd9a8",
   "metadata": {},
   "outputs": [],
   "source": [
    "random.shuffle(password_)"
   ]
  },
  {
   "cell_type": "code",
   "execution_count": 26,
   "id": "75ed04a0-2ffe-428d-8f1a-0bedc42c35c6",
   "metadata": {},
   "outputs": [],
   "source": [
    "#Labels for variables and Features for Password"
   ]
  },
  {
   "cell_type": "code",
   "execution_count": 27,
   "id": "5b6b6eb6-a24e-4bcb-9fc1-8d95d63c1c04",
   "metadata": {
    "tags": []
   },
   "outputs": [],
   "source": [
    "allpasswords = [s[0] for s in password_]\n",
    "ylabels = [s[1] for s in password_]"
   ]
  },
  {
   "cell_type": "code",
   "execution_count": 28,
   "id": "e3d25d11-bff9-46bd-ac34-ec3fbc1e3463",
   "metadata": {},
   "outputs": [
    {
     "data": {
      "text/plain": [
       "(669639, 669639)"
      ]
     },
     "execution_count": 28,
     "metadata": {},
     "output_type": "execute_result"
    }
   ],
   "source": [
    "len(ylabels), len(allpasswords)"
   ]
  },
  {
   "cell_type": "code",
   "execution_count": 29,
   "id": "562c81f6-97d8-4b47-aa27-2aad9b4845b7",
   "metadata": {
    "tags": []
   },
   "outputs": [],
   "source": [
    "#Password Strength Prediction Model with Sklearn Lib\n",
    "#Tokenization first before prediction"
   ]
  },
  {
   "cell_type": "code",
   "execution_count": 30,
   "id": "de5f519d-d806-4484-992a-03db15ddf92f",
   "metadata": {},
   "outputs": [],
   "source": [
    "def word(password):\n",
    "    character = []\n",
    "    for i in password:\n",
    "        character.append(i)\n",
    "    return character\n",
    "\n",
    "tdif = TfidfVectorizer(tokenizer = None, analyzer = word, encoding='utf-8')\n",
    "X = tdif.fit_transform(allpasswords)\n",
    "X_train, X_test, y_train, y_test = train_test_split(X, ylabels, test_size = 0.2, random_state = 42)"
   ]
  },
  {
   "cell_type": "code",
   "execution_count": 31,
   "id": "fc5fba3e-44dc-4b08-87de-493f7cbbb06f",
   "metadata": {},
   "outputs": [],
   "source": [
    "#Building the model"
   ]
  },
  {
   "cell_type": "code",
   "execution_count": 32,
   "id": "237c8563-110b-4b3e-aa6f-88eef1a10f53",
   "metadata": {},
   "outputs": [
    {
     "data": {
      "text/plain": [
       "0.9881204826473926"
      ]
     },
     "execution_count": 32,
     "metadata": {},
     "output_type": "execute_result"
    }
   ],
   "source": [
    "model = RandomForestClassifier()\n",
    "model.fit(X_train, y_train)\n",
    "model.score(X_test, y_test) #accuracy"
   ]
  },
  {
   "cell_type": "code",
   "execution_count": 33,
   "id": "0fbb34cf-7b0b-4b41-8b03-ca1617f10125",
   "metadata": {},
   "outputs": [
    {
     "data": {
      "text/plain": [
       "array(['Medium', 'Weak', 'Medium', ..., 'Medium', 'Medium', 'Medium'],\n",
       "      dtype='<U6')"
      ]
     },
     "execution_count": 33,
     "metadata": {},
     "output_type": "execute_result"
    }
   ],
   "source": [
    "y_pred = model.predict(X_test)\n",
    "y_pred"
   ]
  },
  {
   "cell_type": "code",
   "execution_count": 34,
   "id": "c6d96732-984d-4da5-8ebf-a6d04223f168",
   "metadata": {},
   "outputs": [],
   "source": [
    "#Prediction with Input data"
   ]
  },
  {
   "cell_type": "code",
   "execution_count": 39,
   "id": "a660b427-a6d5-4857-b81c-a1ee46a96da9",
   "metadata": {},
   "outputs": [],
   "source": [
    "X_predict = ['sdasdasd',\n",
    "            '123asd',\n",
    "            'Asd3045+',\n",
    "            'qwerhgd34---',\n",
    "            '126432675',\n",
    "             'ASDBERW',\n",
    "            'Ya5f6n2m!',\n",
    "            'abcdefgh',\n",
    "            '12345']"
   ]
  },
  {
   "cell_type": "code",
   "execution_count": 40,
   "id": "39898f26-656a-431e-b8a7-0a3d34b75b04",
   "metadata": {},
   "outputs": [
    {
     "data": {
      "text/plain": [
       "array(['Medium', 'Medium', 'Strong', 'Strong', 'Medium', 'Medium',\n",
       "       'Medium', 'Medium', 'Medium'], dtype='<U6')"
      ]
     },
     "execution_count": 40,
     "metadata": {},
     "output_type": "execute_result"
    }
   ],
   "source": [
    "X_predict = tdif.transform(X_predict)\n",
    "y_predict = model.predict(X_predict)\n",
    "y_predict"
   ]
  },
  {
   "cell_type": "code",
   "execution_count": null,
   "id": "c1285205",
   "metadata": {},
   "outputs": [],
   "source": [
    "#Another test tool"
   ]
  },
  {
   "cell_type": "code",
   "execution_count": 42,
   "id": "61666781-c34d-40fc-ab28-24a55daeda33",
   "metadata": {},
   "outputs": [
    {
     "name": "stdout",
     "output_type": "stream",
     "text": [
      "['Medium']\n"
     ]
    }
   ],
   "source": [
    "import getpass\n",
    "user = getpass.getpass(\"Enter Password: \")\n",
    "data = tdif.transform([user]).toarray()\n",
    "output = model.predict(data)\n",
    "print(output)"
   ]
  },
  {
   "cell_type": "code",
   "execution_count": null,
   "id": "00d46f0a",
   "metadata": {},
   "outputs": [],
   "source": []
  }
 ],
 "metadata": {
  "kernelspec": {
   "display_name": "Python 3.11.2 64-bit",
   "language": "python",
   "name": "python3"
  },
  "language_info": {
   "codemirror_mode": {
    "name": "ipython",
    "version": 3
   },
   "file_extension": ".py",
   "mimetype": "text/x-python",
   "name": "python",
   "nbconvert_exporter": "python",
   "pygments_lexer": "ipython3",
   "version": "3.11.2"
  },
  "vscode": {
   "interpreter": {
    "hash": "aee8b7b246df8f9039afb4144a1f6fd8d2ca17a180786b69acc140d282b71a49"
   }
  }
 },
 "nbformat": 4,
 "nbformat_minor": 5
}
